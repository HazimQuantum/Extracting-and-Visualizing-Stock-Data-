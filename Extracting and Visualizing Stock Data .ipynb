{
 "cells": [
  {
   "cell_type": "code",
   "execution_count": 1,
   "metadata": {
    "id": "SWhatvyxy6t4"
   },
   "outputs": [
    {
     "ename": "ModuleNotFoundError",
     "evalue": "No module named 'yfinance'",
     "output_type": "error",
     "traceback": [
      "\u001b[1;31m---------------------------------------------------------------------------\u001b[0m",
      "\u001b[1;31mModuleNotFoundError\u001b[0m                       Traceback (most recent call last)",
      "Cell \u001b[1;32mIn[1], line 1\u001b[0m\n\u001b[1;32m----> 1\u001b[0m \u001b[38;5;28;01mimport\u001b[39;00m \u001b[38;5;21;01myfinance\u001b[39;00m \u001b[38;5;28;01mas\u001b[39;00m \u001b[38;5;21;01myf\u001b[39;00m\n\u001b[0;32m      2\u001b[0m \u001b[38;5;28;01mimport\u001b[39;00m \u001b[38;5;21;01mpandas\u001b[39;00m \u001b[38;5;28;01mas\u001b[39;00m \u001b[38;5;21;01mpd\u001b[39;00m\n\u001b[0;32m      3\u001b[0m \u001b[38;5;28;01mimport\u001b[39;00m \u001b[38;5;21;01mrequests\u001b[39;00m\n",
      "\u001b[1;31mModuleNotFoundError\u001b[0m: No module named 'yfinance'"
     ]
    }
   ],
   "source": [
    "import yfinance as yf\n",
    "import pandas as pd\n",
    "import requests\n",
    "from bs4 import BeautifulSoup\n",
    "import plotly.graph_objects as go\n",
    "from plotly.subplots import make_subplots"
   ]
  },
  {
   "cell_type": "code",
   "execution_count": 4,
   "metadata": {
    "id": "eLVFEt-bzISo"
   },
   "outputs": [],
   "source": [
    "def my_graph(stock_data, revenue_data, stock):\n",
    "    fig = make_subplots(rows=2, cols=1, shared_xaxes=True, subplot_titles=(\"Historical Share Price\", \"Historical Revenue\"), vertical_spacing = .3)\n",
    "    stock_data_specific = stock_data[stock_data.Date <= '2021--06-14']\n",
    "    revenue_data_specific = revenue_data[revenue_data.Date <= '2021-04-30']\n",
    "    fig.add_trace(go.Scatter(x=pd.to_datetime(stock_data_specific.Date, infer_datetime_format=True), y=stock_data_specific.Close.astype(\"float\"), name=\"Share Price\"), row=1, col=1)\n",
    "    fig.add_trace(go.Scatter(x=pd.to_datetime(revenue_data_specific.Date, infer_datetime_format=True), y=revenue_data_specific.Revenue.astype(\"float\"), name=\"Revenue\"), row=2, col=1)\n",
    "    fig.update_xaxes(title_text=\"Date\", row=1, col=1)\n",
    "    fig.update_xaxes(title_text=\"Date\", row=2, col=1)\n",
    "    fig.update_yaxes(title_text=\"Price ($US)\", row=1, col=1)\n",
    "    fig.update_yaxes(title_text=\"Revenue ($US Millions)\", row=2, col=1)\n",
    "    fig.update_layout(showlegend=False,\n",
    "    height=900,\n",
    "    title=stock,\n",
    "    xaxis_rangeslider_visible=True)\n",
    "    fig.show()"
   ]
  },
  {
   "cell_type": "code",
   "execution_count": 14,
   "metadata": {
    "id": "hJOivR-BzmTt"
   },
   "outputs": [],
   "source": [
    "#Use yfinance to Extract Stock Data\n",
    "tesla = yf.Ticker(\"TSLA\")"
   ]
  },
  {
   "cell_type": "code",
   "execution_count": null,
   "metadata": {
    "id": "iDPpnhyh2rc1"
   },
   "outputs": [],
   "source": [
    "tesla_data = tesla.history(period=\"max\")"
   ]
  },
  {
   "cell_type": "code",
   "execution_count": null,
   "metadata": {
    "id": "GbYGgc_c3hF4"
   },
   "outputs": [],
   "source": [
    "tesla_data.reset_index(inplace=True)\n",
    "tesla_data.head()"
   ]
  },
  {
   "cell_type": "code",
   "execution_count": 23,
   "metadata": {
    "id": "vwb4C2RM-SRZ"
   },
   "outputs": [],
   "source": [
    "#Use Webscraping to Extract Tesla Revenue Data\n",
    "url = ' https://www.macrotrends.net/stocks/charts/TSLA/tesla/revenue'\n",
    "data  = requests.get(url).text"
   ]
  },
  {
   "cell_type": "code",
   "execution_count": 24,
   "metadata": {
    "id": "ciN51pSP-l1e"
   },
   "outputs": [],
   "source": [
    "beautiful_soup = BeautifulSoup(data, 'html5lib')"
   ]
  },
  {
   "cell_type": "code",
   "execution_count": null,
   "metadata": {
    "id": "IXmat_e5-nbl"
   },
   "outputs": [],
   "source": [
    "#to isolate the table and navigate throgh the rows and columns\n",
    "read_html_pandas_data = pd.read_html(str(beautiful_soup))\n",
    "tesla_revenue = read_html_pandas_data[1]\n",
    "tesla_revenue[\"Date\"] = tesla_revenue[['Tesla Quarterly Revenue(Millions of US $)']]\n",
    "tesla_revenue[\"Revenue\"] = tesla_revenue[['Tesla Quarterly Revenue(Millions of US $).1']]\n",
    "tesla_revenue\n",
    "new_tesla_revenue = tesla_revenue[[\"Date\", \"Revenue\"]]\n",
    "new_tesla_revenue"
   ]
  },
  {
   "cell_type": "code",
   "execution_count": null,
   "metadata": {
    "id": "ux0xNs6c_JN7"
   },
   "outputs": [],
   "source": [
    "#to remove the comma and dollar sign from the Revenue column\n",
    "new_tesla_revenue[\"Revenue\"] = new_tesla_revenue['Revenue'].str.replace(',|\\$',\"\")"
   ]
  },
  {
   "cell_type": "code",
   "execution_count": null,
   "metadata": {
    "id": "hULIrarr_Y-G"
   },
   "outputs": [],
   "source": [
    "#to remove an null or empty strings in the Revenue column\n",
    "new_tesla_revenue.dropna(inplace=True)\n",
    "\n",
    "new_tesla_revenue = new_tesla_revenue[new_tesla_revenue['Revenue'] != \"\"]"
   ]
  },
  {
   "cell_type": "code",
   "execution_count": null,
   "metadata": {
    "id": "1vDIA4Qq_kW8"
   },
   "outputs": [],
   "source": [
    "#Display the last 5 row of the tesla_revenue\n",
    "new_tesla_revenue.tail()"
   ]
  },
  {
   "cell_type": "code",
   "execution_count": 26,
   "metadata": {
    "id": "lpopAmuI_pM9"
   },
   "outputs": [],
   "source": [
    "#Use yfinance to Extract Stock Data\n",
    "gamestock = yf.Ticker(\"GME\")"
   ]
  },
  {
   "cell_type": "code",
   "execution_count": null,
   "metadata": {
    "id": "1YfEdELr_5qN"
   },
   "outputs": [],
   "source": [
    "gme_data = gamestock.history(period=\"max\")"
   ]
  },
  {
   "cell_type": "code",
   "execution_count": null,
   "metadata": {
    "id": "dT1oK7b5AK4X"
   },
   "outputs": [],
   "source": [
    "gme_data.reset_index(inplace=True)\n",
    "gme_data.head()"
   ]
  },
  {
   "cell_type": "code",
   "execution_count": null,
   "metadata": {
    "id": "8BcYv7xVATvL"
   },
   "outputs": [],
   "source": [
    "#Use Webscraping to Extract GME Revenue Data\n",
    "url = ' https://www.macrotrends.net/stocks/charts/GME/gamestop/revenue.'\n",
    "data  = requests.get(url).text"
   ]
  },
  {
   "cell_type": "code",
   "execution_count": null,
   "metadata": {
    "id": "gyYpK8KQAcd3"
   },
   "outputs": [],
   "source": [
    "beautiful_soup = BeautifulSoup(data, 'html5lib')"
   ]
  },
  {
   "cell_type": "code",
   "execution_count": null,
   "metadata": {
    "id": "Gh37ObC3AhqL"
   },
   "outputs": [],
   "source": [
    "#to isolate the table and navidate through the rows and columns\n",
    "read_html_pandas_data = pd.read_html(str(beautiful_soup))\n",
    "gme_revenue = read_html_pandas_data[1]\n",
    "gme_revenue[\"Date\"] = gme_revenue[\"GameStop Quarterly Revenue(Millions of US $)\"]\n",
    "gme_revenue[\"Revenue\"] = gme_revenue[\"GameStop Quarterly Revenue(Millions of US $).1\"]\n",
    "gme_revenue\n",
    "new_gme_revenue = gme_revenue[[\"Date\", \"Revenue\"]]\n",
    "new_gme_revenue"
   ]
  },
  {
   "cell_type": "code",
   "execution_count": null,
   "metadata": {
    "id": "GBaT62CDAnB6"
   },
   "outputs": [],
   "source": [
    "#Display the last five rows of the gme_revenue\n",
    "new_gme_revenue[\"Revenue\"] = new_gme_revenue['Revenue'].str.replace(',|\\$',\"\")\n",
    "new_gme_revenue.dropna(inplace=True)\n",
    "new_gme_revenue = new_gme_revenue[new_gme_revenue['Revenue'] != \"\"]\n",
    "new_gme_revenue.tail()"
   ]
  },
  {
   "cell_type": "code",
   "execution_count": null,
   "metadata": {
    "id": "ZQuNYDvnAzbb"
   },
   "outputs": [],
   "source": [
    "#Plot Tesla Stock Graph\n",
    "my_graph(tesla_data, new_tesla_revenue, 'Tesla')"
   ]
  },
  {
   "cell_type": "code",
   "execution_count": null,
   "metadata": {
    "id": "7P8VQNtAA6z8"
   },
   "outputs": [],
   "source": [
    "#Plot GameStop Stock Graph\n",
    "my_graph(gme_data, new_gme_revenue, 'GameStop')"
   ]
  },
  {
   "cell_type": "code",
   "execution_count": null,
   "metadata": {
    "id": "QGNpkDlhC91q"
   },
   "outputs": [],
   "source": []
  }
 ],
 "metadata": {
  "colab": {
   "provenance": []
  },
  "kernelspec": {
   "display_name": "Python [conda env:base] *",
   "language": "python",
   "name": "conda-base-py"
  },
  "language_info": {
   "codemirror_mode": {
    "name": "ipython",
    "version": 3
   },
   "file_extension": ".py",
   "mimetype": "text/x-python",
   "name": "python",
   "nbconvert_exporter": "python",
   "pygments_lexer": "ipython3",
   "version": "3.12.4"
  }
 },
 "nbformat": 4,
 "nbformat_minor": 4
}
